{
 "cells": [
  {
   "cell_type": "markdown",
   "id": "1b244a55",
   "metadata": {},
   "source": [
    "# Agentic Artificial Intelligence (AAI)\n",
    "\n",
    "A concept that refers to AI systems that can operate with a degree of autonomy, making decisions and taking actions based on their programming and learned experiences. AAI systems are designed to perform tasks without human intervention, adapting to new situations and learning from their environment."
   ]
  }
 ],
 "metadata": {
  "language_info": {
   "name": "python"
  }
 },
 "nbformat": 4,
 "nbformat_minor": 5
}
