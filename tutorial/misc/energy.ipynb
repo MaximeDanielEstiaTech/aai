{
 "cells": [
  {
   "cell_type": "markdown",
   "id": "5b44a70c",
   "metadata": {},
   "source": [
    "# enrgy consumption of chatgpt 4.0 during training"
   ]
  },
  {
   "cell_type": "code",
   "execution_count": 1,
   "id": "c456d6d5",
   "metadata": {},
   "outputs": [
    {
     "name": "stdout",
     "output_type": "stream",
     "text": [
      "hardware reference: NVIDIA A100 PCIe GPU (40GB & 80GB Tensor Core)\n",
      "hardware price: 20000 euros\n",
      "hardware computation speed: 312000000000000 FLOPS\n",
      "hardware power consumption: 400 watts\n",
      "--------------------------------------------------\n",
      "model reference: GPT-4\n",
      "model total computation: 10000000000000000000000000 FLOPs\n",
      "--------------------------------------------------\n",
      "training time: 3.21e+10 seconds\n",
      "training duration of model on hardware: 370963 days, 21:54:11.282051\n",
      "Total energy consumption: 3561.25 MWh\n",
      "number of French households: 1602\n"
     ]
    }
   ],
   "source": [
    "import datetime\n",
    "\n",
    "\n",
    "hardware_reference = \"NVIDIA A100 PCIe GPU (40GB & 80GB Tensor Core)\"\n",
    "hardware_price = 20000 # euros\n",
    "hardware_computation_speed =  312 * 10**12 # FLOPS\n",
    "hardware_power_consumption = 400 # watts\n",
    "# print all hardware information\n",
    "print(f\"hardware reference: {hardware_reference}\")\n",
    "print(f\"hardware price: {hardware_price} euros\")\n",
    "print(f\"hardware computation speed: {hardware_computation_speed} FLOPS\")\n",
    "print(f\"hardware power consumption: {hardware_power_consumption} watts\")\n",
    "# print seperator\n",
    "print(\"-\" * 50)\n",
    "# print model information\n",
    "model_reference = \"GPT-4\"\n",
    "model_total_computation = 10**25 # FLOPs\n",
    "print(f\"model reference: {model_reference}\")\n",
    "print(f\"model total computation: {model_total_computation} FLOPs\")\n",
    "# print seperator\n",
    "print(\"-\" * 50)\n",
    "training_time = model_total_computation / hardware_computation_speed # seconds\n",
    "training_timedelta = datetime.timedelta(seconds=training_time)\n",
    "# print training time in scientific notation\n",
    "print(f\"training time: {training_time:.2e} seconds\")\n",
    "print(f\"training duration of model on hardware: {training_timedelta}\")\n",
    "training_time_hours = training_time / 3600 # convert seconds to hours\n",
    "energy_consumption = hardware_power_consumption * training_time_hours # Wh\n",
    "energy_consumption = energy_consumption / 10**6 # convert to MWh\n",
    "print(f\"Total energy consumption: {energy_consumption:.2f} MWh\")\n",
    "french_energy_consumption = 2223 / 10**3 # 2.2 MWh\n",
    "nb_french_energy_consumption = energy_consumption / french_energy_consumption # number of French households\n",
    "print(f\"number of French households: {nb_french_energy_consumption:.0f}\")"
   ]
  }
 ],
 "metadata": {
  "kernelspec": {
   "display_name": "Python 3",
   "language": "python",
   "name": "python3"
  },
  "language_info": {
   "codemirror_mode": {
    "name": "ipython",
    "version": 3
   },
   "file_extension": ".py",
   "mimetype": "text/x-python",
   "name": "python",
   "nbconvert_exporter": "python",
   "pygments_lexer": "ipython3",
   "version": "3.13.3"
  }
 },
 "nbformat": 4,
 "nbformat_minor": 5
}
