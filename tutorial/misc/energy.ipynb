{
 "cells": [
  {
   "cell_type": "markdown",
   "id": "5b44a70c",
   "metadata": {},
   "source": [
    "# enrgy consumption of chatgpt 4.0 during training"
   ]
  },
  {
   "cell_type": "code",
   "execution_count": 24,
   "id": "c456d6d5",
   "metadata": {},
   "outputs": [
    {
     "name": "stdout",
     "output_type": "stream",
     "text": [
      "training time: 8903133.90 seconds\n",
      "training time: 8903133.90 hours\n",
      "energy consumption: 3561253561.25 Wh\n",
      "energy consumption: 3561.25 MWh\n",
      "number of French households: 1602\n"
     ]
    }
   ],
   "source": [
    "hardware_reference = \"NVIDIA A100 PCIe GPU (40GB & 80GB Tensor Core)\"\n",
    "hardware_price = 20000 # euros\n",
    "hardware_computation_speed =  312 * 10**12 # FLOPS\n",
    "hardware_power_consumption = 400 # watts\n",
    "\n",
    "model_reference = \"GPT-4\"\n",
    "model_total_computation = 10**25 # FLOPs\n",
    "training_time = model_total_computation / hardware_computation_speed # seconds\n",
    "print(f\"training time: {training_time / 3600:.2f} seconds\")\n",
    "training_time_hours = training_time / 3600 # convert seconds to hours\n",
    "print(f\"training time: {training_time_hours:.2f} hours\")\n",
    "energy_consumption = hardware_power_consumption * training_time_hours # Wh\n",
    "print(f\"energy consumption: {energy_consumption:.2f} Wh\") # convert to MWh\n",
    "energy_consumption = energy_consumption / 10**6 # convert to MWh\n",
    "print(f\"energy consumption: {energy_consumption:.2f} MWh\")\n",
    "french_energy_consumption = 2223 / 10**3 # 2.2 MWh\n",
    "nb_french_energy_consumption = energy_consumption / french_energy_consumption # number of French households\n",
    "print(f\"number of French households: {nb_french_energy_consumption:.0f}\")"
   ]
  }
 ],
 "metadata": {
  "kernelspec": {
   "display_name": "Python 3",
   "language": "python",
   "name": "python3"
  },
  "language_info": {
   "codemirror_mode": {
    "name": "ipython",
    "version": 3
   },
   "file_extension": ".py",
   "mimetype": "text/x-python",
   "name": "python",
   "nbconvert_exporter": "python",
   "pygments_lexer": "ipython3",
   "version": "3.13.3"
  }
 },
 "nbformat": 4,
 "nbformat_minor": 5
}
